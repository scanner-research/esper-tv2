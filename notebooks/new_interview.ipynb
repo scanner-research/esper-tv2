{
 "cells": [
  {
   "cell_type": "code",
   "execution_count": 2,
   "metadata": {
    "ExecuteTime": {
     "end_time": "2019-06-07T21:43:02.315202Z",
     "start_time": "2019-06-07T21:43:02.291726Z"
    },
    "scrolled": false
   },
   "outputs": [],
   "source": [
    "import math\n",
    "import os\n",
    "from os import path\n",
    "from pathlib import Path\n",
    "from django.db.models import FloatField, F, Q\n",
    "\n",
    "from captions import CaptionIndex, Documents, Lexicon   # type: ignore\n",
    "\n",
    "from typing import Callable, Dict, List, Set, Tuple, NamedTuple, Union\n",
    "\n",
    "# from rekall.temporal_predicates import *\n",
    "# from rekall.spatial_predicates import *\n",
    "# from rekall.interval_list import IntervalList\n",
    "from rekall import IntervalSetMapping\n",
    "from rekall.stdlib.ingest import ism_from_django_qs\n",
    "\n",
    "# from esper.rekall import *\n",
    "# from esper.interview import *\n",
    "# from esper.captions import *\n",
    "# from esper.prelude import esper_widget\n",
    "\n",
    "# from query.models import LabeledInterview, LabeledPanel, LabeledCommercial, Video, FaceIdentity, Face\n",
    "from app.models import Video, Face, FaceIdentity, LabeledInterview, CanonicalShow, Commercial"
   ]
  },
  {
   "cell_type": "code",
   "execution_count": 3,
   "metadata": {
    "ExecuteTime": {
     "end_time": "2019-06-07T21:43:02.523036Z",
     "start_time": "2019-06-07T21:43:02.503038Z"
    }
   },
   "outputs": [],
   "source": [
    "def ground_truth_interviews(name, original = True):\n",
    "    interviews = LabeledInterview.objects \\\n",
    "        .annotate(fps = F('video__fps')) \\\n",
    "        .annotate(min_frame = F('fps') * F('start')) \\\n",
    "        .annotate(max_frame = F('fps') * F('end')) \\\n",
    "        .filter(guest1 = name)\n",
    "    if original:\n",
    "        interviews = interviews.filter(original = original)\n",
    "    return IntervalSetMapping(ism_from_django_qs(interviews))"
   ]
  },
  {
   "cell_type": "code",
   "execution_count": 4,
   "metadata": {
    "ExecuteTime": {
     "end_time": "2019-06-07T21:43:03.163303Z",
     "start_time": "2019-06-07T21:43:02.698969Z"
    }
   },
   "outputs": [],
   "source": [
    "gt = ground_truth_interviews(\"kellyanne conway\")"
   ]
  },
  {
   "cell_type": "code",
   "execution_count": 5,
   "metadata": {
    "ExecuteTime": {
     "end_time": "2019-06-07T21:43:03.213570Z",
     "start_time": "2019-06-07T21:43:03.166052Z"
    }
   },
   "outputs": [],
   "source": [
    "def get_fps_map(vids):\n",
    "    vs = Video.objects.filter(id__in=vids)\n",
    "    return {v.id: v.fps for v in vs}\n",
    "\n",
    "def frame_second_conversion(c, mode='f2s'):\n",
    "    fps_map = get_fps_map(set(c.get_grouped_intervals().keys()))\n",
    "    \n",
    "    def second_to_frame(fps):\n",
    "        def map_fn(intrvl):\n",
    "            i2 = intrvl.copy()\n",
    "            curr_bounds = intrvl['bounds']\n",
    "            print(curr_bounds)\n",
    "            curr_bounds['t1'] = int(curr_bounds['t1']*fps)\n",
    "            curr_bounds['t2'] = int(curr_bounds['t2']*fps)\n",
    "            i2['bounds'] = curr_bounds\n",
    "            return i2\n",
    "        return map_fn\n",
    "    \n",
    "    def frame_to_second(fps):\n",
    "        def map_fn(intrvl):\n",
    "            i2 = intrvl.copy()\n",
    "            curr_bounds = intrvl['bounds']\n",
    "            curr_bounds['t1'] = int(curr_bounds['t1']/fps)\n",
    "            curr_bounds['t2'] = int(curr_bounds['t2']/fps)\n",
    "            i2['bounds'] = curr_bounds\n",
    "            return i2\n",
    "        return map_fn\n",
    "    \n",
    "    if mode=='f2s':\n",
    "        fn = frame_to_second\n",
    "    if mode=='s2f':\n",
    "        fn = second_to_frame\n",
    "    output = {}\n",
    "    for vid, intervals in c.get_grouped_intervals().items():\n",
    "        output[vid] = intervals.map(fn(fps_map[vid]))\n",
    "    return IntervalSetMapping(output)\n",
    "\n",
    "def frame_to_second_collection(c):\n",
    "    return frame_second_conversion(c, 'f2s')\n",
    "\n",
    "def second_to_frame_collection(c):\n",
    "    return frame_second_conversion(c, 's2f')"
   ]
  },
  {
   "cell_type": "code",
   "execution_count": 6,
   "metadata": {
    "ExecuteTime": {
     "end_time": "2019-06-07T21:43:03.297172Z",
     "start_time": "2019-06-07T21:43:03.216541Z"
    }
   },
   "outputs": [],
   "source": [
    "def get_person_intrvlcol(person_list=None, video_ids=None, \n",
    "                         probability=0.9, face_size=None, stride_face=False, labeler='new',\n",
    "                         exclude_person=False, granularity='frame', payload_type='shot_id'):\n",
    "    \n",
    "    def identity_filter(person_list):\n",
    "        filter_all = None\n",
    "        for p in person_list:\n",
    "            if labeler == 'new':\n",
    "                filter = Q(labeler__name='face-identity-converted:' +  p) | Q(labeler__name='face-identity:' + p)\n",
    "            else:\n",
    "                filter = Q(labeler__name='face-identity-old:' +  p)\n",
    "            if filter_all is None:\n",
    "                filter_all = filter\n",
    "            else:\n",
    "                filter_all = filter_all | filter\n",
    "        return filter_all\n",
    "    \n",
    "    if stride_face:\n",
    "        labeler = 'new'\n",
    "    if type(person_list) == str:\n",
    "        person_list = [person_list.lower()]\n",
    "    else:\n",
    "        person_list = [p.lower() for p in person_list]\n",
    "    \n",
    "    faceIDs = FaceIdentity.objects \\\n",
    "              .filter(probability__gt=probability) \\\n",
    "              .annotate(face_size=F(\"face__bbox_y2\") - F(\"face__bbox_y1\")) \\\n",
    "              .annotate(video_id=F(\"face__frame__video_id\")) \\\n",
    "    \n",
    "    if not stride_face:\n",
    "        faceIDs = faceIDs.exclude(face__shot__isnull=True)\n",
    "    else:\n",
    "        faceIDs = faceIDs.filter(face__frame__shot_boundary=False)\n",
    "        \n",
    "    if not person_list is None:\n",
    "        if not exclude_person:\n",
    "            faceIDs = faceIDs.filter(identity_filter(person_list)) \n",
    "        else:\n",
    "            faceIDs = faceIDs.exclude(identity_filter(person_list)) \n",
    "                \n",
    "    if not face_size is None:\n",
    "        faceIDs = faceIDs.filter(face_size__gte=face_size)\n",
    "        \n",
    "    if not video_ids is None:\n",
    "        faceIDs = faceIDs.filter(video_id__in=video_ids)\n",
    "    \n",
    "    if not stride_face:\n",
    "        person_intrvllists = ism_from_django_qs(\n",
    "            faceIDs.annotate(video_id=F(\"face__shot__video_id\"))\n",
    "                   .annotate(shot_id=F(\"face__shot_id\"))\n",
    "                   .annotate(min_frame=F(\"face__shot__min_frame\"))\n",
    "                   .annotate(max_frame=F(\"face__shot__max_frame\"))\n",
    "                   .annotate(faceID_id=F(\"identity_id\")),\\\n",
    "            bounds_schema={\n",
    "                'start': 'min_frame',\n",
    "                'end': 'max_frame',\n",
    "                'payload': payload_type\n",
    "            })\n",
    "        person_intrvlcol = IntervalSetMapping(person_intrvllists).coalesce(('t1', 't2'), Bounds3D.span)\n",
    "    else:\n",
    "        if payload_type == 'shot_id':\n",
    "            payload_type = 'frame_id'\n",
    "        person_intrvllists_raw = ism_from_django_qs(\n",
    "            faceIDs.annotate(video_id=F(\"face__frame__video_id\"))\n",
    "                   .annotate(frame_id=F(\"face__frame__number\"))\n",
    "                   .annotate(min_frame=F(\"face__frame__number\"))\n",
    "                   .annotate(max_frame=F(\"face__frame__number\") + 1)\n",
    "                   .annotate(faceID_id=F(\"identity_id\")),\\\n",
    "            bounds_schema={\n",
    "                'start': 'min_frame',\n",
    "                'end': 'max_frame',\n",
    "                'payload': payload_type\n",
    "            })\n",
    "        # dilate and coalesce\n",
    "        SAMPLE_RATE = 3\n",
    "        person_intrvllists = {}\n",
    "        for video_id, intrvllist in person_intrvllists_raw.items():\n",
    "            video = Video.objects.filter(id=video_id)[0]\n",
    "            dilation = int(video.fps * SAMPLE_RATE / 2)\n",
    "            # TODO Check this\n",
    "            person_intrvllists[video_id] = intrvllist.dilate(dilation).coalesce(('t1', 't2'), Bounds3D.span).dilate(-dilation)\n",
    "        person_intrvlcol = IntervalSetMapping(person_intrvllists)\n",
    "        \n",
    "    if granularity == 'second':\n",
    "        person_intrvlcol = frame_to_second_collection(person_intrvlcol)\n",
    "    \n",
    "    # TODO port this\n",
    "#     print(\"Get {} intervals for person {}\".format(count_intervals(person_intrvlcol), \n",
    "#                                                   person_list[0]+' ...' if len(person_list) > 1 else person_list[0]))\n",
    "    return person_intrvlcol"
   ]
  },
  {
   "cell_type": "code",
   "execution_count": 7,
   "metadata": {
    "ExecuteTime": {
     "end_time": "2019-06-07T21:43:03.571447Z",
     "start_time": "2019-06-07T21:43:03.551005Z"
    }
   },
   "outputs": [],
   "source": [
    "def get_commercial_intrvlcol(video_ids=None, granularity='frame'):\n",
    "    if video_ids is None:\n",
    "        commercial_qs = Commercial.objects.all()\n",
    "    else:\n",
    "        commercial_qs = Commercial.objects.filter(video_id__in=video_ids)\n",
    "        \n",
    "    commercial_intrvllists = ism_from_django_qs(commercial_qs)\n",
    "    commercial = IntervalSetMapping(commercial_intrvllists)\n",
    "    if granularity == 'second':\n",
    "        commercial = frame_to_second_collection(commercial)\n",
    "    return commercial"
   ]
  },
  {
   "cell_type": "code",
   "execution_count": 8,
   "metadata": {
    "ExecuteTime": {
     "end_time": "2019-06-07T21:43:04.400205Z",
     "start_time": "2019-06-07T21:43:04.377151Z"
    }
   },
   "outputs": [],
   "source": [
    "def load_intervals(video_ids, person_name, host_list,\n",
    "                    face_size=0.2, stride_face=False, probability=0.7):\n",
    "\n",
    "    person_intrvlcol = get_person_intrvlcol(person_name, video_ids=video_ids, face_size=face_size, \n",
    "                                            stride_face=stride_face, probability=probability, \n",
    "                                            granularity='second', payload_type='face_size')\n",
    "    \n",
    "    video_ids = list(person_intrvlcol.get_grouped_intervals().keys())\n",
    "    host_intrvlcol = get_person_intrvlcol(host_list, video_ids=video_ids, face_size=face_size, \\\n",
    "                                          stride_face=stride_face, probability=probability, \n",
    "                                          granularity='second', payload_type='shot_id')\n",
    "    \n",
    "    commercial = get_commercial_intrvlcol(video_ids, granularity='second')\n",
    "    \n",
    "    return person_intrvlcol, host_intrvlcol, commercial"
   ]
  },
  {
   "cell_type": "code",
   "execution_count": 9,
   "metadata": {
    "ExecuteTime": {
     "end_time": "2019-06-07T21:43:05.195677Z",
     "start_time": "2019-06-07T21:43:04.752525Z"
    }
   },
   "outputs": [
    {
     "ename": "NameError",
     "evalue": "name 'Bounds3D' is not defined",
     "output_type": "error",
     "traceback": [
      "\u001b[0;31m---------------------------------------------------------------------------\u001b[0m",
      "\u001b[0;31mNameError\u001b[0m                                 Traceback (most recent call last)",
      "\u001b[0;32m<ipython-input-9-7058ef6c8f8e>\u001b[0m in \u001b[0;36m<module>\u001b[0;34m()\u001b[0m\n\u001b[1;32m      2\u001b[0m \u001b[0mperson_name\u001b[0m \u001b[0;34m=\u001b[0m \u001b[0;34m\"kellyanne conway\"\u001b[0m\u001b[0;34m\u001b[0m\u001b[0m\n\u001b[1;32m      3\u001b[0m \u001b[0mhost_list\u001b[0m \u001b[0;34m=\u001b[0m \u001b[0;34m[\u001b[0m\u001b[0;34m'mike huckabee'\u001b[0m\u001b[0;34m,\u001b[0m \u001b[0;34m'natalie allen'\u001b[0m\u001b[0;34m,\u001b[0m \u001b[0;34m'doug mckelway'\u001b[0m\u001b[0;34m,\u001b[0m \u001b[0;34m'brooke baldwin'\u001b[0m\u001b[0;34m,\u001b[0m \u001b[0;34m'martha maccallum'\u001b[0m\u001b[0;34m,\u001b[0m \u001b[0;34m'jim pinkerton'\u001b[0m\u001b[0;34m,\u001b[0m \u001b[0;34m'melissa francis'\u001b[0m\u001b[0;34m,\u001b[0m \u001b[0;34m'maria molina'\u001b[0m\u001b[0;34m,\u001b[0m \u001b[0;34m'louis burgdorf'\u001b[0m\u001b[0;34m,\u001b[0m \u001b[0;34m'fareed zakaria'\u001b[0m\u001b[0;34m,\u001b[0m \u001b[0;34m'shannon bream'\u001b[0m\u001b[0;34m,\u001b[0m \u001b[0;34m'alisyn camerota'\u001b[0m\u001b[0;34m,\u001b[0m \u001b[0;34m'kimberley strassel'\u001b[0m\u001b[0;34m,\u001b[0m \u001b[0;34m\"soledad o'brien\"\u001b[0m\u001b[0;34m,\u001b[0m \u001b[0;34m'sanjay gupta'\u001b[0m\u001b[0;34m,\u001b[0m \u001b[0;34m'jeanine pirro'\u001b[0m\u001b[0;34m,\u001b[0m \u001b[0;34m'rob schmidt'\u001b[0m\u001b[0;34m,\u001b[0m \u001b[0;34m'heather childers'\u001b[0m\u001b[0;34m,\u001b[0m \u001b[0;34m'rick reichmuth'\u001b[0m\u001b[0;34m,\u001b[0m \u001b[0;34m'ed lavandera'\u001b[0m\u001b[0;34m,\u001b[0m \u001b[0;34m'thomas roberts'\u001b[0m\u001b[0;34m,\u001b[0m \u001b[0;34m'andrea tantaros'\u001b[0m\u001b[0;34m,\u001b[0m \u001b[0;34m'brian kilmeade'\u001b[0m\u001b[0;34m,\u001b[0m \u001b[0;34m'alan colmes'\u001b[0m\u001b[0;34m,\u001b[0m \u001b[0;34m'shepard smith'\u001b[0m\u001b[0;34m,\u001b[0m \u001b[0;34m'uma pemmaraju'\u001b[0m\u001b[0;34m,\u001b[0m \u001b[0;34m'victor blackwell'\u001b[0m\u001b[0;34m,\u001b[0m \u001b[0;34m'kathleen parker'\u001b[0m\u001b[0;34m,\u001b[0m \u001b[0;34m'howard kurtz'\u001b[0m\u001b[0;34m,\u001b[0m \u001b[0;34m'jesse watters'\u001b[0m\u001b[0;34m,\u001b[0m \u001b[0;34m'martin bashir'\u001b[0m\u001b[0;34m,\u001b[0m \u001b[0;34m'kevin corke'\u001b[0m\u001b[0;34m,\u001b[0m \u001b[0;34m'jon scott'\u001b[0m\u001b[0;34m,\u001b[0m \u001b[0;34m'keith olbermann'\u001b[0m\u001b[0;34m,\u001b[0m \u001b[0;34m'eric bolling'\u001b[0m\u001b[0;34m,\u001b[0m \u001b[0;34m'glenn beck'\u001b[0m\u001b[0;34m,\u001b[0m \u001b[0;34m'john stossel'\u001b[0m\u001b[0;34m,\u001b[0m \u001b[0;34m'josé díaz-balart'\u001b[0m\u001b[0;34m,\u001b[0m \u001b[0;34m'richard lui'\u001b[0m\u001b[0;34m,\u001b[0m \u001b[0;34m'brian stelter'\u001b[0m\u001b[0;34m,\u001b[0m \u001b[0;34m'anna kooiman'\u001b[0m\u001b[0;34m,\u001b[0m \u001b[0;34m'elisabeth hasselbeck'\u001b[0m\u001b[0;34m,\u001b[0m \u001b[0;34m'poppy harlow'\u001b[0m\u001b[0;34m,\u001b[0m \u001b[0;34m'bill hemmer'\u001b[0m\u001b[0;34m,\u001b[0m \u001b[0;34m'kelly wright'\u001b[0m\u001b[0;34m,\u001b[0m \u001b[0;34m'clayton morris'\u001b[0m\u001b[0;34m,\u001b[0m \u001b[0;34m'hallie jackson'\u001b[0m\u001b[0;34m,\u001b[0m \u001b[0;34m'steve kornacki'\u001b[0m\u001b[0;34m,\u001b[0m \u001b[0;34m'rich lowry'\u001b[0m\u001b[0;34m,\u001b[0m \u001b[0;34m'robert pollock'\u001b[0m\u001b[0;34m,\u001b[0m \u001b[0;34m'ed schultz'\u001b[0m\u001b[0;34m,\u001b[0m \u001b[0;34m'fredricka whitfield'\u001b[0m\u001b[0;34m,\u001b[0m \u001b[0;34m'andrea mitchell'\u001b[0m\u001b[0;34m,\u001b[0m \u001b[0;34m'larry king'\u001b[0m\u001b[0;34m,\u001b[0m \u001b[0;34m'brit hume'\u001b[0m\u001b[0;34m,\u001b[0m \u001b[0;34m'david asman'\u001b[0m\u001b[0;34m,\u001b[0m \u001b[0;34m'trace gallagher'\u001b[0m\u001b[0;34m,\u001b[0m \u001b[0;34m'bob beckel'\u001b[0m\u001b[0;34m,\u001b[0m \u001b[0;34m'mark halperin'\u001b[0m\u001b[0;34m,\u001b[0m \u001b[0;34m'john heilemann'\u001b[0m\u001b[0;34m,\u001b[0m \u001b[0;34m'donny deutsch'\u001b[0m\u001b[0;34m,\u001b[0m \u001b[0;34m'kate snow'\u001b[0m\u001b[0;34m,\u001b[0m \u001b[0;34m'willie geist'\u001b[0m\u001b[0;34m,\u001b[0m \u001b[0;34m'rachel maddow'\u001b[0m\u001b[0;34m,\u001b[0m \u001b[0;34m'toure neblett'\u001b[0m\u001b[0;34m,\u001b[0m \u001b[0;34m'al sharpton'\u001b[0m\u001b[0;34m,\u001b[0m \u001b[0;34m'piers morgan'\u001b[0m\u001b[0;34m,\u001b[0m \u001b[0;34m'leland vittert'\u001b[0m\u001b[0;34m,\u001b[0m \u001b[0;34m'elliot spitzer'\u001b[0m\u001b[0;34m,\u001b[0m \u001b[0;34m'joy-ann reid'\u001b[0m\u001b[0;34m,\u001b[0m \u001b[0;34m'savannah guthrie'\u001b[0m\u001b[0;34m,\u001b[0m \u001b[0;34m'dylan ratigan'\u001b[0m\u001b[0;34m,\u001b[0m \u001b[0;34m'ali velshi'\u001b[0m\u001b[0;34m,\u001b[0m \u001b[0;34m'bret baier'\u001b[0m\u001b[0;34m,\u001b[0m \u001b[0;34m'chris jansing'\u001b[0m\u001b[0;34m,\u001b[0m \u001b[0;34m'daniel henninger'\u001b[0m\u001b[0;34m,\u001b[0m \u001b[0;34m'greg gutfeld'\u001b[0m\u001b[0;34m,\u001b[0m \u001b[0;34m'chris hayes'\u001b[0m\u001b[0;34m,\u001b[0m \u001b[0;34m'jillian mele'\u001b[0m\u001b[0;34m,\u001b[0m \u001b[0;34m'jake tapper'\u001b[0m\u001b[0;34m,\u001b[0m \u001b[0;34m'trish regan'\u001b[0m\u001b[0;34m,\u001b[0m \u001b[0;34m'chris matthews'\u001b[0m\u001b[0;34m,\u001b[0m \u001b[0;34m'nicole wallace'\u001b[0m\u001b[0;34m,\u001b[0m \u001b[0;34m'carol costello'\u001b[0m\u001b[0;34m,\u001b[0m \u001b[0;34m'john king'\u001b[0m\u001b[0;34m,\u001b[0m \u001b[0;34m'alex witt'\u001b[0m\u001b[0;34m,\u001b[0m \u001b[0;34m'megyn kelly'\u001b[0m\u001b[0;34m,\u001b[0m \u001b[0;34m'steve doocy'\u001b[0m\u001b[0;34m,\u001b[0m \u001b[0;34m'stephanie ruhle'\u001b[0m\u001b[0;34m,\u001b[0m \u001b[0;34m'tucker carlson'\u001b[0m\u001b[0;34m,\u001b[0m \u001b[0;34m'anthony bourdain'\u001b[0m\u001b[0;34m,\u001b[0m \u001b[0;34m'ainsley earhardt'\u001b[0m\u001b[0;34m,\u001b[0m \u001b[0;34m'brian shactman'\u001b[0m\u001b[0;34m,\u001b[0m \u001b[0;34m'joe scarborough'\u001b[0m\u001b[0;34m,\u001b[0m \u001b[0;34m'sean hannity'\u001b[0m\u001b[0;34m,\u001b[0m \u001b[0;34m'james taranto'\u001b[0m\u001b[0;34m,\u001b[0m \u001b[0;34m'lauren green'\u001b[0m\u001b[0;34m,\u001b[0m \u001b[0;34m'jj ramberg'\u001b[0m\u001b[0;34m,\u001b[0m \u001b[0;34m'juan williams'\u001b[0m\u001b[0;34m,\u001b[0m \u001b[0;34m'greta van susteren'\u001b[0m\u001b[0;34m,\u001b[0m \u001b[0;34m'cal thomas'\u001b[0m\u001b[0;34m,\u001b[0m \u001b[0;34m\"lawrence o'donnell\"\u001b[0m\u001b[0;34m,\u001b[0m \u001b[0;34m'rob schmitt'\u001b[0m\u001b[0;34m,\u001b[0m \u001b[0;34m'frances rivera'\u001b[0m\u001b[0;34m,\u001b[0m \u001b[0;34m'neil cavuto'\u001b[0m\u001b[0;34m,\u001b[0m \u001b[0;34m'christi paul'\u001b[0m\u001b[0;34m,\u001b[0m \u001b[0;34m'arthel neville'\u001b[0m\u001b[0;34m,\u001b[0m \u001b[0;34m'touré neblett'\u001b[0m\u001b[0;34m,\u001b[0m \u001b[0;34m'dana perino'\u001b[0m\u001b[0;34m,\u001b[0m \u001b[0;34m'michael smerconish'\u001b[0m\u001b[0;34m,\u001b[0m \u001b[0;34m'krystal ball'\u001b[0m\u001b[0;34m,\u001b[0m \u001b[0;34m'maria bartiromo'\u001b[0m\u001b[0;34m,\u001b[0m \u001b[0;34m'john fund'\u001b[0m\u001b[0;34m,\u001b[0m \u001b[0;34m'john berman'\u001b[0m\u001b[0;34m,\u001b[0m \u001b[0;34m'brian williams'\u001b[0m\u001b[0;34m,\u001b[0m \u001b[0;34m'ellis henican'\u001b[0m\u001b[0;34m,\u001b[0m \u001b[0;34m'abby huntsman'\u001b[0m\u001b[0;34m,\u001b[0m \u001b[0;34m'ana cabrera'\u001b[0m\u001b[0;34m,\u001b[0m \u001b[0;34m'erin burnett'\u001b[0m\u001b[0;34m,\u001b[0m \u001b[0;34m'ari melber'\u001b[0m\u001b[0;34m,\u001b[0m \u001b[0;34m'pete hegseth'\u001b[0m\u001b[0;34m,\u001b[0m \u001b[0;34m'eric shawn'\u001b[0m\u001b[0;34m,\u001b[0m \u001b[0;34m'tom shillue'\u001b[0m\u001b[0;34m,\u001b[0m \u001b[0;34m'ed henry'\u001b[0m\u001b[0;34m,\u001b[0m \u001b[0;34m\"bill o'reilly\"\u001b[0m\u001b[0;34m,\u001b[0m \u001b[0;34m'mika brzezinski'\u001b[0m\u001b[0;34m,\u001b[0m \u001b[0;34m'chris cuomo'\u001b[0m\u001b[0;34m,\u001b[0m \u001b[0;34m'peter doocy'\u001b[0m\u001b[0;34m,\u001b[0m \u001b[0;34m'dagen mcdowell'\u001b[0m\u001b[0;34m,\u001b[0m \u001b[0;34m'tamron hall'\u001b[0m\u001b[0;34m,\u001b[0m \u001b[0;34m'jose diaz-balart'\u001b[0m\u001b[0;34m,\u001b[0m \u001b[0;34m'chris wallace'\u001b[0m\u001b[0;34m,\u001b[0m \u001b[0;34m'cheryl casone'\u001b[0m\u001b[0;34m,\u001b[0m \u001b[0;34m'wolf blitzer'\u001b[0m\u001b[0;34m,\u001b[0m \u001b[0;34m'christiane amanpour'\u001b[0m\u001b[0;34m,\u001b[0m \u001b[0;34m'laura ingraham'\u001b[0m\u001b[0;34m,\u001b[0m \u001b[0;34m'alex wagner'\u001b[0m\u001b[0;34m,\u001b[0m \u001b[0;34m'anderson cooper'\u001b[0m\u001b[0;34m,\u001b[0m \u001b[0;34m'brenda buttner'\u001b[0m\u001b[0;34m,\u001b[0m \u001b[0;34m'elizabeth prann'\u001b[0m\u001b[0;34m,\u001b[0m \u001b[0;34m'sandra smith'\u001b[0m\u001b[0;34m,\u001b[0m \u001b[0;34m'janice dean'\u001b[0m\u001b[0;34m,\u001b[0m \u001b[0;34m'campbell brown'\u001b[0m\u001b[0;34m,\u001b[0m \u001b[0;34m'kate bolduan'\u001b[0m\u001b[0;34m,\u001b[0m \u001b[0;34m'ayman mohyeldin'\u001b[0m\u001b[0;34m,\u001b[0m \u001b[0;34m'dave briggs'\u001b[0m\u001b[0;34m,\u001b[0m \u001b[0;34m'kimberly guilfoyle'\u001b[0m\u001b[0;34m,\u001b[0m \u001b[0;34m'craig melvin'\u001b[0m\u001b[0;34m,\u001b[0m \u001b[0;34m'lauren ashburn'\u001b[0m\u001b[0;34m,\u001b[0m \u001b[0;34m'molly henneberg'\u001b[0m\u001b[0;34m,\u001b[0m \u001b[0;34m'ronan farrow'\u001b[0m\u001b[0;34m,\u001b[0m \u001b[0;34m'alicia henley'\u001b[0m\u001b[0;34m,\u001b[0m \u001b[0;34m'yasmin vossoughian'\u001b[0m\u001b[0;34m,\u001b[0m \u001b[0;34m'julie banderas'\u001b[0m\u001b[0;34m,\u001b[0m \u001b[0;34m'bryan llenas'\u001b[0m\u001b[0;34m,\u001b[0m \u001b[0;34m'melissa harris-perry'\u001b[0m\u001b[0;34m,\u001b[0m \u001b[0;34m'don lemon'\u001b[0m\u001b[0;34m,\u001b[0m \u001b[0;34m'dorothy rabinowitz'\u001b[0m\u001b[0;34m,\u001b[0m \u001b[0;34m'judith miller'\u001b[0m\u001b[0;34m,\u001b[0m \u001b[0;34m'geraldo rivera'\u001b[0m\u001b[0;34m,\u001b[0m \u001b[0;34m'jedediah bila'\u001b[0m\u001b[0;34m,\u001b[0m \u001b[0;34m'chuck todd'\u001b[0m\u001b[0;34m,\u001b[0m \u001b[0;34m'katy tur'\u001b[0m\u001b[0;34m,\u001b[0m \u001b[0;34m'christine romans'\u001b[0m\u001b[0;34m,\u001b[0m \u001b[0;34m'harris faulkner'\u001b[0m\u001b[0;34m,\u001b[0m \u001b[0;34m'kasie hunt'\u001b[0m\u001b[0;34m,\u001b[0m \u001b[0;34m'gretchen carlson'\u001b[0m\u001b[0;34m,\u001b[0m \u001b[0;34m'jane hall'\u001b[0m\u001b[0;34m,\u001b[0m \u001b[0;34m'jason riley'\u001b[0m\u001b[0;34m,\u001b[0m \u001b[0;34m'griff jenkins'\u001b[0m\u001b[0;34m,\u001b[0m \u001b[0;34m'rick folbaum'\u001b[0m\u001b[0;34m]\u001b[0m\u001b[0;34m\u001b[0m\u001b[0m\n\u001b[0;32m----> 4\u001b[0;31m \u001b[0mperson_intrvlcol\u001b[0m\u001b[0;34m,\u001b[0m \u001b[0mhost_intrvlcol\u001b[0m\u001b[0;34m,\u001b[0m \u001b[0mcommercial\u001b[0m \u001b[0;34m=\u001b[0m \u001b[0mload_intervals\u001b[0m\u001b[0;34m(\u001b[0m\u001b[0mvideo_ids\u001b[0m\u001b[0;34m,\u001b[0m \u001b[0mperson_name\u001b[0m\u001b[0;34m,\u001b[0m \u001b[0mhost_list\u001b[0m\u001b[0;34m)\u001b[0m\u001b[0;34m\u001b[0m\u001b[0m\n\u001b[0m",
      "\u001b[0;32m<ipython-input-8-cb88ec1017e6>\u001b[0m in \u001b[0;36mload_intervals\u001b[0;34m(video_ids, person_name, host_list, face_size, stride_face, probability)\u001b[0m\n\u001b[1;32m      4\u001b[0m     person_intrvlcol = get_person_intrvlcol(person_name, video_ids=video_ids, face_size=face_size, \n\u001b[1;32m      5\u001b[0m                                             \u001b[0mstride_face\u001b[0m\u001b[0;34m=\u001b[0m\u001b[0mstride_face\u001b[0m\u001b[0;34m,\u001b[0m \u001b[0mprobability\u001b[0m\u001b[0;34m=\u001b[0m\u001b[0mprobability\u001b[0m\u001b[0;34m,\u001b[0m\u001b[0;34m\u001b[0m\u001b[0m\n\u001b[0;32m----> 6\u001b[0;31m                                             granularity='second', payload_type='face_size')\n\u001b[0m\u001b[1;32m      7\u001b[0m \u001b[0;34m\u001b[0m\u001b[0m\n\u001b[1;32m      8\u001b[0m     \u001b[0mvideo_ids\u001b[0m \u001b[0;34m=\u001b[0m \u001b[0mlist\u001b[0m\u001b[0;34m(\u001b[0m\u001b[0mperson_intrvlcol\u001b[0m\u001b[0;34m.\u001b[0m\u001b[0mget_grouped_intervals\u001b[0m\u001b[0;34m(\u001b[0m\u001b[0;34m)\u001b[0m\u001b[0;34m.\u001b[0m\u001b[0mkeys\u001b[0m\u001b[0;34m(\u001b[0m\u001b[0;34m)\u001b[0m\u001b[0;34m)\u001b[0m\u001b[0;34m\u001b[0m\u001b[0m\n",
      "\u001b[0;32m<ipython-input-6-03b30864abc9>\u001b[0m in \u001b[0;36mget_person_intrvlcol\u001b[0;34m(person_list, video_ids, probability, face_size, stride_face, labeler, exclude_person, granularity, payload_type)\u001b[0m\n\u001b[1;32m     53\u001b[0m                 \u001b[0;34m'payload'\u001b[0m\u001b[0;34m:\u001b[0m \u001b[0mpayload_type\u001b[0m\u001b[0;34m\u001b[0m\u001b[0m\n\u001b[1;32m     54\u001b[0m             })\n\u001b[0;32m---> 55\u001b[0;31m         \u001b[0mperson_intrvlcol\u001b[0m \u001b[0;34m=\u001b[0m \u001b[0mIntervalSetMapping\u001b[0m\u001b[0;34m(\u001b[0m\u001b[0mperson_intrvllists\u001b[0m\u001b[0;34m)\u001b[0m\u001b[0;34m.\u001b[0m\u001b[0mcoalesce\u001b[0m\u001b[0;34m(\u001b[0m\u001b[0;34m(\u001b[0m\u001b[0;34m't1'\u001b[0m\u001b[0;34m,\u001b[0m \u001b[0;34m't2'\u001b[0m\u001b[0;34m)\u001b[0m\u001b[0;34m,\u001b[0m \u001b[0mBounds3D\u001b[0m\u001b[0;34m.\u001b[0m\u001b[0mspan\u001b[0m\u001b[0;34m)\u001b[0m\u001b[0;34m\u001b[0m\u001b[0m\n\u001b[0m\u001b[1;32m     56\u001b[0m     \u001b[0;32melse\u001b[0m\u001b[0;34m:\u001b[0m\u001b[0;34m\u001b[0m\u001b[0m\n\u001b[1;32m     57\u001b[0m         \u001b[0;32mif\u001b[0m \u001b[0mpayload_type\u001b[0m \u001b[0;34m==\u001b[0m \u001b[0;34m'shot_id'\u001b[0m\u001b[0;34m:\u001b[0m\u001b[0;34m\u001b[0m\u001b[0m\n",
      "\u001b[0;31mNameError\u001b[0m: name 'Bounds3D' is not defined"
     ]
    }
   ],
   "source": [
    "video_ids = [3952, 529, 4611, 8859, 33541, 19959, 32472, 40203, 15916, 16542]\n",
    "person_name = \"kellyanne conway\"\n",
    "host_list = ['mike huckabee', 'natalie allen', 'doug mckelway', 'brooke baldwin', 'martha maccallum', 'jim pinkerton', 'melissa francis', 'maria molina', 'louis burgdorf', 'fareed zakaria', 'shannon bream', 'alisyn camerota', 'kimberley strassel', \"soledad o'brien\", 'sanjay gupta', 'jeanine pirro', 'rob schmidt', 'heather childers', 'rick reichmuth', 'ed lavandera', 'thomas roberts', 'andrea tantaros', 'brian kilmeade', 'alan colmes', 'shepard smith', 'uma pemmaraju', 'victor blackwell', 'kathleen parker', 'howard kurtz', 'jesse watters', 'martin bashir', 'kevin corke', 'jon scott', 'keith olbermann', 'eric bolling', 'glenn beck', 'john stossel', 'josé díaz-balart', 'richard lui', 'brian stelter', 'anna kooiman', 'elisabeth hasselbeck', 'poppy harlow', 'bill hemmer', 'kelly wright', 'clayton morris', 'hallie jackson', 'steve kornacki', 'rich lowry', 'robert pollock', 'ed schultz', 'fredricka whitfield', 'andrea mitchell', 'larry king', 'brit hume', 'david asman', 'trace gallagher', 'bob beckel', 'mark halperin', 'john heilemann', 'donny deutsch', 'kate snow', 'willie geist', 'rachel maddow', 'toure neblett', 'al sharpton', 'piers morgan', 'leland vittert', 'elliot spitzer', 'joy-ann reid', 'savannah guthrie', 'dylan ratigan', 'ali velshi', 'bret baier', 'chris jansing', 'daniel henninger', 'greg gutfeld', 'chris hayes', 'jillian mele', 'jake tapper', 'trish regan', 'chris matthews', 'nicole wallace', 'carol costello', 'john king', 'alex witt', 'megyn kelly', 'steve doocy', 'stephanie ruhle', 'tucker carlson', 'anthony bourdain', 'ainsley earhardt', 'brian shactman', 'joe scarborough', 'sean hannity', 'james taranto', 'lauren green', 'jj ramberg', 'juan williams', 'greta van susteren', 'cal thomas', \"lawrence o'donnell\", 'rob schmitt', 'frances rivera', 'neil cavuto', 'christi paul', 'arthel neville', 'touré neblett', 'dana perino', 'michael smerconish', 'krystal ball', 'maria bartiromo', 'john fund', 'john berman', 'brian williams', 'ellis henican', 'abby huntsman', 'ana cabrera', 'erin burnett', 'ari melber', 'pete hegseth', 'eric shawn', 'tom shillue', 'ed henry', \"bill o'reilly\", 'mika brzezinski', 'chris cuomo', 'peter doocy', 'dagen mcdowell', 'tamron hall', 'jose diaz-balart', 'chris wallace', 'cheryl casone', 'wolf blitzer', 'christiane amanpour', 'laura ingraham', 'alex wagner', 'anderson cooper', 'brenda buttner', 'elizabeth prann', 'sandra smith', 'janice dean', 'campbell brown', 'kate bolduan', 'ayman mohyeldin', 'dave briggs', 'kimberly guilfoyle', 'craig melvin', 'lauren ashburn', 'molly henneberg', 'ronan farrow', 'alicia henley', 'yasmin vossoughian', 'julie banderas', 'bryan llenas', 'melissa harris-perry', 'don lemon', 'dorothy rabinowitz', 'judith miller', 'geraldo rivera', 'jedediah bila', 'chuck todd', 'katy tur', 'christine romans', 'harris faulkner', 'kasie hunt', 'gretchen carlson', 'jane hall', 'jason riley', 'griff jenkins', 'rick folbaum']\n",
    "person_intrvlcol, host_intrvlcol, commercial = load_intervals(video_ids, person_name, host_list)"
   ]
  },
  {
   "cell_type": "code",
   "execution_count": 10,
   "metadata": {
    "ExecuteTime": {
     "end_time": "2019-06-07T21:43:05.426927Z",
     "start_time": "2019-06-07T21:43:05.403190Z"
    }
   },
   "outputs": [],
   "source": [
    "sandbox_videos = [529, 763, 2648, 3459, 3730, 3769, 3952, 4143, 4611, 5281, 6185, 7262, 8220,\n",
    "    8697, 8859, 9215, 9480, 9499, 9901, 10323, 10335, 11003, 11555, 11579, 11792,\n",
    "    12837, 13058, 13141, 13247, 13556, 13827, 13927, 13993, 14482, 15916, 16215,\n",
    "    16542, 16693, 16879, 17458, 17983, 19882, 19959, 20380, 20450, 23181, 23184,\n",
    "    24193, 24847, 24992, 25463, 26386, 27188, 27410, 29001, 31378, 32472, 32996,\n",
    "    33004, 33387, 33541, 33800, 34359, 34642, 36755, 37107, 37113, 37170, 38275,\n",
    "    38420, 40203, 40856, 41480, 41725, 42756, 45472, 45645, 45655, 45698, 48140,\n",
    "    49225, 49931, 50164, 50561, 51175, 52075, 52749, 52945, 53355, 53684, 54377,\n",
    "    55711, 57384, 57592, 57708, 57804, 57990, 59122, 59398, 60186]"
   ]
  },
  {
   "cell_type": "code",
   "execution_count": 11,
   "metadata": {
    "ExecuteTime": {
     "end_time": "2019-06-07T21:43:06.039130Z",
     "start_time": "2019-06-07T21:43:06.016347Z"
    }
   },
   "outputs": [],
   "source": [
    "def load_index(index_dir: str) -> Tuple[CaptionIndex, Documents, Lexicon]:\n",
    "    print('Loading caption index: please wait...')\n",
    "    documents = Documents.load(path.join(index_dir, 'docs.list'))\n",
    "    #TODO fix for the latest version of caption-index\n",
    "    lexicon = Lexicon.load(path.join(index_dir, 'words.lex'))\n",
    "#                            lazy_lemmas=False)\n",
    "    index = CaptionIndex(path.join(index_dir, 'index.bin'),\n",
    "                         lexicon, documents)\n",
    "    return index, documents, lexicon"
   ]
  },
  {
   "cell_type": "code",
   "execution_count": 12,
   "metadata": {
    "ExecuteTime": {
     "end_time": "2019-06-07T21:43:06.464451Z",
     "start_time": "2019-06-07T21:43:06.434247Z"
    }
   },
   "outputs": [],
   "source": [
    "def split_intrvlcol(intrvlcol, seg_length):\n",
    "    intrvllists_split = {}\n",
    "    for video_id, intrvllist in intrvlcol.get_grouped_intervals().items():\n",
    "        intervals_split = []\n",
    "        for i in intrvllist.get_intervals():\n",
    "            duration = i['bounds']['t2'] - i['bounds']['t1']\n",
    "            start = i['bounds']['t1']\n",
    "            while duration > 0:\n",
    "                if duration > seg_length:\n",
    "                    i2 = i.copy()\n",
    "                    i2['bounds']['t1'] = start\n",
    "                    i2['bounds']['t2'] = start + seg_length\n",
    "                    intervals_split.append(i2)\n",
    "                    duration -= seg_length\n",
    "                    start += seg_length\n",
    "                else:\n",
    "                    i2 = i.copy()\n",
    "                    i2['bounds']['t1'] = start\n",
    "                    i2['bounds']['t2'] = start + duration\n",
    "                    intervals_split.append(i2)\n",
    "                    duration = 0\n",
    "        intrvllists_split[video_id] = IntervalSet(intervals_split)\n",
    "    return IntervalSetMapping(intrvllists_split)"
   ]
  },
  {
   "cell_type": "code",
   "execution_count": 13,
   "metadata": {
    "ExecuteTime": {
     "end_time": "2019-06-07T21:43:07.207964Z",
     "start_time": "2019-06-07T21:43:07.149798Z"
    }
   },
   "outputs": [],
   "source": [
    "def interview_query(person_intrvlcol, host_intrvlcol, commercial, num_face_intrvlcol=None):\n",
    "    \n",
    "    host_intrvlcol_related = {}\n",
    "    for video_id in person_intrvlcol.get_grouped_intervals():\n",
    "        if video_id in host_intrvlcol.get_grouped_intervals():\n",
    "            host_intrvlcol_related[video_id] = host_intrvlcol.get_grouped_intervals()[video_id]\n",
    "    host_intrvlcol = IntervalSetMapping(host_intrvlcol_related)\n",
    "    \n",
    "    # Split long segments into connected pieces\n",
    "    host_intrvlcol = split_intrvlcol(host_intrvlcol, seg_length=30)\n",
    "    # person_intrvlcol = split_intrvlcol(person_intrvlcol, seg_length=30)\n",
    "\n",
    "    # This temporal predicate defines A overlaps with B, or A before by less than 60 seconds,\n",
    "    #   or A after B by less than 60 seconds\n",
    "    from rekall.predicates import or_pred, overlaps, before, after\n",
    "    overlaps_before_or_after_pred = or_pred(\n",
    "            or_pred(overlaps(), before(max_dist=60)),\n",
    "            after(max_dist=60))\n",
    "    \n",
    "    # debug this\n",
    "    interview_candidates = host_intrvlcol \\\n",
    "                .join(person_intrvlcol, predicate=overlaps_before_or_after_pred) \\\n",
    "                .coalesce(('t1', 't2'), Bounds3D.span) \n",
    "    \n",
    "    # Sequences may be interrupted by shots where the guest or host don't\n",
    "    # appear, so dilate and coalesce to merge neighboring segments\n",
    "    interviews = interview_candidates \\\n",
    "            .dilate(120) \\\n",
    "            .coalesce(('t1', 't2'), Bounds3D.span) \\\n",
    "            .dilate(-1 * 120) \\\n",
    "            .filter_length(min_length=240) \\\n",
    "            .minus(commercial) \\\n",
    "            .filter_length(min_length=240)\n",
    "    \n",
    "    \n",
    "    # remove interview segments which the total person time proportion is below threshold\n",
    "    def filter_person_time(i):\n",
    "        # Thresh for Trump 0.4, 0.4, 0.5 \n",
    "        person_time = 0\n",
    "        small_person_time, large_person_time = 0, 0\n",
    "        for height, duration in i.payload:\n",
    "            person_time += duration\n",
    "            small_person_time += duration if height < 0.3 else 0\n",
    "            large_person_time += duration if height > 0.3 else 0\n",
    "        seg_length = i.end - i.start\n",
    "        return person_time / seg_length > 0.35 and small_person_time / person_time < 0.7\n",
    "    \n",
    "    interviews_person_time = interviews.join(person_intrvlcol,\n",
    "                             predicate=overlaps(),\n",
    "                             merge_op=lambda i1, i2: [(i1.start, i1.end, [(i2.payload, i2.end - i2.start)])] ) \\\n",
    "                             .coalesce(payload_plus)\n",
    "\n",
    "    interviews = interviews_person_time.filter(filter_person_time)\n",
    "    \n",
    "    person_all = interviews.overlaps(person_intrvlcol)\n",
    "\n",
    "    person_with_host = person_all.overlaps(host_intrvlcol)\n",
    "    \n",
    "    person_only = person_all.minus(person_with_host)\n",
    "    \n",
    "    host_only = interviews.overlaps(host_intrvlcol).minus(person_with_host)\n",
    "    \n",
    "    return interviews, person_only, host_only, person_with_host"
   ]
  },
  {
   "cell_type": "code",
   "execution_count": null,
   "metadata": {
    "ExecuteTime": {
     "end_time": "2019-06-07T21:49:04.415680Z",
     "start_time": "2019-06-07T21:46:42.455Z"
    }
   },
   "outputs": [],
   "source": [
    "def test_interview(person_name):\n",
    "    if person_name == 'donald trump':\n",
    "        gt = pickle.load(open('/app/data/interview_gt.pkl', 'rb'))\n",
    "        gt = VideoIntervalCollection({id: IntervalList(list) for id, list in gt.items()})\n",
    "        gt = intrvlcol_second2frame(gt)\n",
    "    else:\n",
    "        gt = ground_truth_interviews(person_name)\n",
    "    \n",
    "    video_ids=list(gt.get_grouped_intervals().keys())\n",
    "    print(video_ids)\n",
    "    g\n",
    "    index, documents, lexicon = load_index(\"../data/index10a-new-tokenizer\")\n",
    "    print(documents)\n",
    "\n",
    "    host_list = [h.name for s in CanonicalShow.objects.all() for h in s.hosts.all() ]\n",
    "    host_list = list(set(host_list))\n",
    "    print(host_list)\n",
    "    \n",
    "    person_intrvlcol, host_intrvlcol, commercial = load_intervals(video_ids, person_name, host_list)\n",
    "#     return person_intrvlcol, host_intrvlcol, commercial, gt\n",
    "    \n",
    "\n",
    "    interviews, person_only, host_only, person_with_host = interview_query(person_intrvlcol, host_intrvlcol, commercial)\n",
    "#     return interviews, person_in_interviews\n",
    "    \n",
    "    for x in interviews.intervals:\n",
    "        print(x, interviews.intervals[x])\n",
    "        \n",
    "    \n",
    "    print(\"Total length: %.1fh\" % (count_duration(intrvlcol_frame2second(gt)) / 3600))\n",
    "    print_statistics(intrvlcol_second2frame(interviews).get_allintervals(), gt.get_allintervals())\n",
    "\n",
    "    summarize_result = intrvllists_to_result(gt.get_allintervals(), color='green')\n",
    "    add_intrvllists_to_result(summarize_result, intrvlcol_second2frame(commercial).get_allintervals(), color='gray')\n",
    "    add_intrvllists_to_result(summarize_result, intrvlcol_second2frame(person_intrvlcol).get_allintervals(), color='blue')\n",
    "    add_intrvllists_to_result(summarize_result, intrvlcol_second2frame(host_intrvlcol).get_allintervals(), color='purple')\n",
    "    add_intrvllists_to_result(summarize_result, intrvlcol_second2frame(person_with_host).get_allintervals(), color='orange')\n",
    "    add_intrvllists_to_result(summarize_result, intrvlcol_second2frame(interviews).get_allintervals(), color='red')\n",
    "    return summarize_result"
   ]
  },
  {
   "cell_type": "code",
   "execution_count": 15,
   "metadata": {
    "ExecuteTime": {
     "end_time": "2019-06-07T21:49:04.413227Z",
     "start_time": "2019-06-07T21:43:09.767614Z"
    }
   },
   "outputs": [
    {
     "name": "stdout",
     "output_type": "stream",
     "text": [
      "[3952, 529, 4611, 8859, 33541, 19959, 32472, 40203, 15916, 16542]\n",
      "/app/notebooks\n",
      "Loading caption index: please wait...\n",
      "<captions.index.Documents object at 0x7f14b8829b38>\n",
      "['leland vittert', 'neil cavuto', 'gretchen carlson', 'robert pollock', 'kimberley strassel', 'juan williams', 'thomas roberts', 'sandra smith', 'tucker carlson', 'chris wallace', 'shepard smith', 'don lemon', 'daniel henninger', 'katy tur', 'elliot spitzer', 'willie geist', 'victor blackwell', 'richard lui', 'christiane amanpour', 'nicole wallace', 'ed schultz', 'josé díaz-balart', \"lawrence o'donnell\", 'mike huckabee', 'maria molina', 'rob schmidt', 'greta van susteren', 'rachel maddow', \"soledad o'brien\", 'chris cuomo', 'alex wagner', 'shannon bream', 'john fund', 'brit hume', 'alan colmes', 'steve doocy', 'dave briggs', 'glenn beck', 'steve kornacki', 'jon scott', 'ari melber', 'doug mckelway', 'uma pemmaraju', 'fredricka whitfield', 'mark halperin', 'natalie allen', 'martin bashir', 'anderson cooper', 'kate snow', 'piers morgan', 'campbell brown', 'julie banderas', 'megyn kelly', 'arthel neville', 'chuck todd', 'toure neblett', 'alisyn camerota', 'wolf blitzer', 'greg gutfeld', 'janice dean', 'bill hemmer', 'eric shawn', 'ed henry', 'john king', 'ronan farrow', 'howard kurtz', 'andrea tantaros', 'john berman', 'stephanie ruhle', 'ed lavandera', 'kevin corke', 'carol costello', 'ayman mohyeldin', 'pete hegseth', 'keith olbermann', 'melissa harris-perry', 'griff jenkins', 'chris jansing', 'erin burnett', 'judith miller', 'john stossel', 'jedediah bila', 'rick reichmuth', 'elisabeth hasselbeck', 'mika brzezinski', 'clayton morris', 'jeanine pirro', 'kate bolduan', 'rich lowry', 'michael smerconish', 'brenda buttner', \"bill o'reilly\", 'ainsley earhardt', 'christi paul', 'brian williams', 'eric bolling', 'al sharpton', 'andrea mitchell', 'brian stelter', 'joe scarborough', 'hallie jackson', 'sanjay gupta', 'jim pinkerton', 'trace gallagher', 'brian shactman', 'brian kilmeade', 'martha maccallum', 'ellis henican', 'touré neblett', 'lauren green', 'heather childers', 'poppy harlow', 'craig melvin', 'geraldo rivera', 'dana perino', 'ali velshi', 'louis burgdorf', 'alicia henley', 'jesse watters', 'joy-ann reid', 'kimberly guilfoyle', 'anthony bourdain', 'tamron hall', 'bret baier', 'yasmin vossoughian', 'fareed zakaria', 'frances rivera', 'maria bartiromo', 'chris matthews', 'jake tapper', 'kathleen parker', 'dorothy rabinowitz', 'savannah guthrie', 'bryan llenas', 'cal thomas', 'larry king', 'rob schmitt', 'cheryl casone', 'chris hayes', 'harris faulkner', 'laura ingraham', 'jane hall', 'dagen mcdowell', 'elizabeth prann', 'brooke baldwin', 'dylan ratigan', 'jason riley', 'jillian mele', 'kelly wright', 'jj ramberg', 'rick folbaum', 'kasie hunt', 'jose diaz-balart', 'melissa francis', 'christine romans', 'trish regan', 'james taranto', 'donny deutsch', 'abby huntsman', 'peter doocy', 'alex witt', 'ana cabrera', 'david asman', 'krystal ball', 'bob beckel', 'john heilemann', 'anna kooiman', 'lauren ashburn', 'molly henneberg', 'tom shillue', 'sean hannity']\n"
     ]
    },
    {
     "ename": "NameError",
     "evalue": "name 'Bounds3D' is not defined",
     "output_type": "error",
     "traceback": [
      "\u001b[0;31m---------------------------------------------------------------------------\u001b[0m",
      "\u001b[0;31mNameError\u001b[0m                                 Traceback (most recent call last)",
      "\u001b[0;32m<ipython-input-15-19659f6856a2>\u001b[0m in \u001b[0;36m<module>\u001b[0;34m()\u001b[0m\n\u001b[0;32m----> 1\u001b[0;31m \u001b[0msummarize_result_k\u001b[0m \u001b[0;34m=\u001b[0m \u001b[0mtest_interview\u001b[0m\u001b[0;34m(\u001b[0m\u001b[0;34m'kellyanne conway'\u001b[0m\u001b[0;34m)\u001b[0m\u001b[0;34m\u001b[0m\u001b[0m\n\u001b[0m\u001b[1;32m      2\u001b[0m \u001b[0;31m# esper_widget(summarize_result_k)\u001b[0m\u001b[0;34m\u001b[0m\u001b[0;34m\u001b[0m\u001b[0m\n",
      "\u001b[0;32m<ipython-input-14-08380fddecba>\u001b[0m in \u001b[0;36mtest_interview\u001b[0;34m(person_name)\u001b[0m\n\u001b[1;32m     19\u001b[0m     \u001b[0mprint\u001b[0m\u001b[0;34m(\u001b[0m\u001b[0mhost_list\u001b[0m\u001b[0;34m)\u001b[0m\u001b[0;34m\u001b[0m\u001b[0m\n\u001b[1;32m     20\u001b[0m \u001b[0;34m\u001b[0m\u001b[0m\n\u001b[0;32m---> 21\u001b[0;31m     \u001b[0mperson_intrvlcol\u001b[0m\u001b[0;34m,\u001b[0m \u001b[0mhost_intrvlcol\u001b[0m\u001b[0;34m,\u001b[0m \u001b[0mcommercial\u001b[0m \u001b[0;34m=\u001b[0m \u001b[0mload_intervals\u001b[0m\u001b[0;34m(\u001b[0m\u001b[0mvideo_ids\u001b[0m\u001b[0;34m,\u001b[0m \u001b[0mperson_name\u001b[0m\u001b[0;34m,\u001b[0m \u001b[0mhost_list\u001b[0m\u001b[0;34m)\u001b[0m\u001b[0;34m\u001b[0m\u001b[0m\n\u001b[0m\u001b[1;32m     22\u001b[0m \u001b[0;31m#     return person_intrvlcol, host_intrvlcol, commercial, gt\u001b[0m\u001b[0;34m\u001b[0m\u001b[0;34m\u001b[0m\u001b[0m\n\u001b[1;32m     23\u001b[0m \u001b[0;34m\u001b[0m\u001b[0m\n",
      "\u001b[0;32m<ipython-input-8-cb88ec1017e6>\u001b[0m in \u001b[0;36mload_intervals\u001b[0;34m(video_ids, person_name, host_list, face_size, stride_face, probability)\u001b[0m\n\u001b[1;32m      4\u001b[0m     person_intrvlcol = get_person_intrvlcol(person_name, video_ids=video_ids, face_size=face_size, \n\u001b[1;32m      5\u001b[0m                                             \u001b[0mstride_face\u001b[0m\u001b[0;34m=\u001b[0m\u001b[0mstride_face\u001b[0m\u001b[0;34m,\u001b[0m \u001b[0mprobability\u001b[0m\u001b[0;34m=\u001b[0m\u001b[0mprobability\u001b[0m\u001b[0;34m,\u001b[0m\u001b[0;34m\u001b[0m\u001b[0m\n\u001b[0;32m----> 6\u001b[0;31m                                             granularity='second', payload_type='face_size')\n\u001b[0m\u001b[1;32m      7\u001b[0m \u001b[0;34m\u001b[0m\u001b[0m\n\u001b[1;32m      8\u001b[0m     \u001b[0mvideo_ids\u001b[0m \u001b[0;34m=\u001b[0m \u001b[0mlist\u001b[0m\u001b[0;34m(\u001b[0m\u001b[0mperson_intrvlcol\u001b[0m\u001b[0;34m.\u001b[0m\u001b[0mget_grouped_intervals\u001b[0m\u001b[0;34m(\u001b[0m\u001b[0;34m)\u001b[0m\u001b[0;34m.\u001b[0m\u001b[0mkeys\u001b[0m\u001b[0;34m(\u001b[0m\u001b[0;34m)\u001b[0m\u001b[0;34m)\u001b[0m\u001b[0;34m\u001b[0m\u001b[0m\n",
      "\u001b[0;32m<ipython-input-6-03b30864abc9>\u001b[0m in \u001b[0;36mget_person_intrvlcol\u001b[0;34m(person_list, video_ids, probability, face_size, stride_face, labeler, exclude_person, granularity, payload_type)\u001b[0m\n\u001b[1;32m     53\u001b[0m                 \u001b[0;34m'payload'\u001b[0m\u001b[0;34m:\u001b[0m \u001b[0mpayload_type\u001b[0m\u001b[0;34m\u001b[0m\u001b[0m\n\u001b[1;32m     54\u001b[0m             })\n\u001b[0;32m---> 55\u001b[0;31m         \u001b[0mperson_intrvlcol\u001b[0m \u001b[0;34m=\u001b[0m \u001b[0mIntervalSetMapping\u001b[0m\u001b[0;34m(\u001b[0m\u001b[0mperson_intrvllists\u001b[0m\u001b[0;34m)\u001b[0m\u001b[0;34m.\u001b[0m\u001b[0mcoalesce\u001b[0m\u001b[0;34m(\u001b[0m\u001b[0;34m(\u001b[0m\u001b[0;34m't1'\u001b[0m\u001b[0;34m,\u001b[0m \u001b[0;34m't2'\u001b[0m\u001b[0;34m)\u001b[0m\u001b[0;34m,\u001b[0m \u001b[0mBounds3D\u001b[0m\u001b[0;34m.\u001b[0m\u001b[0mspan\u001b[0m\u001b[0;34m)\u001b[0m\u001b[0;34m\u001b[0m\u001b[0m\n\u001b[0m\u001b[1;32m     56\u001b[0m     \u001b[0;32melse\u001b[0m\u001b[0;34m:\u001b[0m\u001b[0;34m\u001b[0m\u001b[0m\n\u001b[1;32m     57\u001b[0m         \u001b[0;32mif\u001b[0m \u001b[0mpayload_type\u001b[0m \u001b[0;34m==\u001b[0m \u001b[0;34m'shot_id'\u001b[0m\u001b[0;34m:\u001b[0m\u001b[0;34m\u001b[0m\u001b[0m\n",
      "\u001b[0;31mNameError\u001b[0m: name 'Bounds3D' is not defined"
     ]
    }
   ],
   "source": [
    "summarize_result_k = test_interview('kellyanne conway')\n",
    "# esper_widget(summarize_result_k)"
   ]
  },
  {
   "cell_type": "code",
   "execution_count": null,
   "metadata": {},
   "outputs": [],
   "source": [
    "esper_widget(summarize_result_k)"
   ]
  }
 ],
 "metadata": {
  "kernelspec": {
   "display_name": "Django Shell-Plus",
   "language": "python",
   "name": "django_extensions"
  },
  "language_info": {
   "codemirror_mode": {
    "name": "ipython",
    "version": 3
   },
   "file_extension": ".py",
   "mimetype": "text/x-python",
   "name": "python",
   "nbconvert_exporter": "python",
   "pygments_lexer": "ipython3",
   "version": "3.5.2"
  },
  "toc": {
   "nav_menu": {},
   "number_sections": true,
   "sideBar": true,
   "skip_h1_title": false,
   "toc_cell": false,
   "toc_position": {},
   "toc_section_display": "block",
   "toc_window_display": false
  }
 },
 "nbformat": 4,
 "nbformat_minor": 2
}
